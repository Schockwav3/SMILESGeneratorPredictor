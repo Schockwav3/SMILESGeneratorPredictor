{
 "cells": [
  {
   "cell_type": "markdown",
   "metadata": {},
   "source": [
    "Python Skript um SMILES aus einer tsv zu extrahieren"
   ]
  },
  {
   "cell_type": "code",
   "execution_count": 2,
   "metadata": {},
   "outputs": [
    {
     "name": "stdout",
     "output_type": "stream",
     "text": [
      "SMILES-Daten wurden erfolgreich in C:\\Users\\SchockWav3\\Desktop\\Masterarbeit\\ChemblDatensatzAXLKinase1.txt gespeichert.\n"
     ]
    }
   ],
   "source": [
    "import csv\n",
    "\n",
    "# Pfad zur Eingabedatei und zur Ausgabedatei\n",
    "input_file_path = 'C:\\\\Users\\\\SchockWav3\\\\Desktop\\\\Masterarbeit\\\\ChemblDatensatzAXLKinase.tsv'\n",
    "output_file_path = 'C:\\\\Users\\\\SchockWav3\\\\Desktop\\\\Masterarbeit\\\\ChemblDatensatzAXLKinase.txt'\n",
    "\n",
    "# Liste zur Speicherung der SMILES-Daten\n",
    "smiles_list = []\n",
    "\n",
    "# Lesen der Eingabedatei und Extrahieren der SMILES-Daten\n",
    "with open(input_file_path, 'r', encoding='utf-8') as infile:\n",
    "    reader = csv.DictReader(infile, delimiter='\\t')\n",
    "    for row in reader:\n",
    "        smiles_list.append(row['Smiles'])\n",
    "\n",
    "# Schreiben der SMILES-Daten in die Ausgabedatei\n",
    "with open(output_file_path, 'w', encoding='utf-8') as outfile:\n",
    "    for smiles in smiles_list:\n",
    "        outfile.write(smiles + '\\n')\n",
    "\n",
    "print(f\"SMILES-Daten wurden erfolgreich in {output_file_path} gespeichert.\")\n"
   ]
  }
 ],
 "metadata": {
  "kernelspec": {
   "display_name": "Python 3",
   "language": "python",
   "name": "python3"
  },
  "language_info": {
   "codemirror_mode": {
    "name": "ipython",
    "version": 3
   },
   "file_extension": ".py",
   "mimetype": "text/x-python",
   "name": "python",
   "nbconvert_exporter": "python",
   "pygments_lexer": "ipython3",
   "version": "3.9.8"
  }
 },
 "nbformat": 4,
 "nbformat_minor": 2
}
